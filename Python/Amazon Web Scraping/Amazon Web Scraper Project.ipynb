{
 "cells": [
  {
   "cell_type": "code",
   "execution_count": null,
   "id": "f236cbb9",
   "metadata": {},
   "outputs": [],
   "source": [
    "# import libraries \n",
    "\n",
    "from bs4 import BeautifulSoup\n",
    "import requests\n",
    "import time\n",
    "import datetime\n",
    "import smtplib\n",
    "from email.mime.text import MIMEText\n",
    "from email.mime.multipart import MIMEMultipart\n"
   ]
  },
  {
   "cell_type": "code",
   "execution_count": null,
   "id": "9b531b61",
   "metadata": {},
   "outputs": [],
   "source": [
    "# Connect to Website and pull in data\n",
    "\n",
    "URL = 'https://www.amazon.com/Halloween-Research-Analyst-T-Shirt-Clothing/dp/B0BFRX46DZ/ref=nav_ya_signin?keywords=data%2Banalyst%2Btshirt&qid=1689272119&sr=8-4&th=1&psc=1%27'\n",
    "headers = {\"User-Agent\": \"Mozilla/5.0 (Windows NT 10.0; Win64; x64) AppleWebKit/537.36 (KHTML, like Gecko) Chrome/114.0.0.0 Safari/537.36 Edg/114.0.1823.43\", \n",
    "    \"X-Amzn-Trace-Id\": \"Root=1-64b03f9b-251648c6210ed0c963bc60fc\", \"Accept-Encoding\":\"gzip, deflate\", \"Accept\":\"text/html,application/xhtml+xml,application/xml;q=0.9,*/*;q=0.8\", \"DNT\":\"1\",\"Connection\":\"close\", \"Upgrade-Insecure-Requests\":\"1\"}\n",
    "\n",
    "page = requests.get(URL, headers=headers)\n",
    "\n",
    "soup = BeautifulSoup(page.content, \"lxml\")\n",
    "\n",
    "#soup1 = BeautifulSoup(page.content, \"html.parser\")\n",
    "\n",
    "#soup2 = BeautifulSoup(soup1.prettify(), \"html.parser\")\n",
    "\n",
    "try:\n",
    "    title = soup.find(id='productTitle').get_text()\n",
    "except:\n",
    "    title = 'NA'\n",
    "\n",
    "try:\n",
    "    price = soup.find('span', {'class':'a-offscreen'}).get_text()\n",
    "except:\n",
    "    price = '$NA'\n",
    "\n",
    "\n",
    "print(title)\n",
    "print(price)\n",
    "\n",
    "\n"
   ]
  },
  {
   "cell_type": "code",
   "execution_count": null,
   "id": "b6f7d66e",
   "metadata": {},
   "outputs": [],
   "source": [
    "# Clean up the data a little bit\n",
    "\n",
    "price = price.strip()[1:]\n",
    "title = title.strip()\n",
    "\n",
    "print(title)\n",
    "print(price)"
   ]
  },
  {
   "cell_type": "code",
   "execution_count": 211,
   "id": "4f021c23",
   "metadata": {},
   "outputs": [
    {
     "name": "stdout",
     "output_type": "stream",
     "text": [
      "2023-07-14\n"
     ]
    }
   ],
   "source": [
    "# Create a Timestamp for your output to track when data was collected\n",
    "\n",
    "import datetime\n",
    "\n",
    "today = datetime.date.today()\n",
    "\n",
    "print(today)\n"
   ]
  },
  {
   "cell_type": "code",
   "execution_count": 212,
   "id": "14d703ca",
   "metadata": {},
   "outputs": [],
   "source": [
    "# Create CSV and write headers and data into the file\n",
    "\n",
    "import csv \n",
    "\n",
    "header = ['Title', 'Price', 'Date']\n",
    "data = [title, price, today]\n",
    "\n",
    "\n",
    "with open('AmazonWebScraperDataset.csv', 'w', newline='', encoding='UTF8') as f:\n",
    "    writer = csv.writer(f)\n",
    "    writer.writerow(header)\n",
    "    writer.writerow(data)\n",
    "    \n"
   ]
  },
  {
   "cell_type": "code",
   "execution_count": 213,
   "id": "d07eeb86",
   "metadata": {},
   "outputs": [
    {
     "name": "stdout",
     "output_type": "stream",
     "text": [
      "   Title  Price        Date\n",
      "0    NaN    NaN  2023-07-14\n"
     ]
    }
   ],
   "source": [
    "import pandas as pd\n",
    "\n",
    "df = pd.read_csv(r'AmazonWebScraperDataset.csv')\n",
    "\n",
    "print(df)\n",
    "\n"
   ]
  },
  {
   "cell_type": "code",
   "execution_count": 214,
   "id": "6b05c1eb",
   "metadata": {},
   "outputs": [],
   "source": [
    "#Now we are appending data to the csv\n",
    "\n",
    "with open('AmazonWebScraperDataset.csv', 'a+', newline='', encoding='UTF8') as f:\n",
    "    writer = csv.writer(f)\n",
    "    writer.writerow(data)"
   ]
  },
  {
   "cell_type": "code",
   "execution_count": 225,
   "id": "8e95b9e0",
   "metadata": {},
   "outputs": [],
   "source": [
    "#Combine all of the above code into one function\n",
    "\n",
    "\n",
    "def check_price():\n",
    "    # Connect to Website and pull in data\n",
    "\n",
    "    URL = 'https://www.amazon.com/Halloween-Research-Analyst-T-Shirt-Clothing/dp/B0BFRX46DZ/ref=nav_ya_signin?keywords=data%2Banalyst%2Btshirt&qid=1689272119&sr=8-4&th=1&psc=1'\n",
    "\n",
    "    headers = {\"User-Agent\": \"Mozilla/5.0 (Windows NT 10.0; Win64; x64) AppleWebKit/537.36 (KHTML, like Gecko) Chrome/114.0.0.0 Safari/537.36 Edg/114.0.1823.43\", \n",
    "        \"X-Amzn-Trace-Id\": \"Root=1-64b03f9b-251648c6210ed0c963bc60fc\", \"Accept-Encoding\":\"gzip, deflate\", \"Accept\":\"text/html,application/xhtml+xml,application/xml;q=0.9,*/*;q=0.8\", \"DNT\":\"1\",\"Connection\":\"close\", \"Upgrade-Insecure-Requests\":\"1\"}\n",
    "\n",
    "    page = requests.get(URL, headers=headers)\n",
    "\n",
    "    soup = BeautifulSoup(page.content, \"lxml\")\n",
    "\n",
    "\n",
    "    try:\n",
    "        title = soup.find(id='productTitle').get_text()\n",
    "    except:\n",
    "        title = 'NA'\n",
    "\n",
    "    try:\n",
    "        price = soup.find('span', {'class':'a-offscreen'}).get_text()\n",
    "    except:\n",
    "        price = '$NA'\n",
    "\n",
    "    # Clean up the data a little bit\n",
    "\n",
    "    price = price.strip()[1:]\n",
    "    title = title.strip()\n",
    "\n",
    "    print(title)\n",
    "    print(price)\n",
    "    \n",
    "    import datetime\n",
    "\n",
    "    today = datetime.date.today()\n",
    "    \n",
    "    import csv \n",
    "\n",
    "    header = ['Title', 'Price', 'Date']\n",
    "    data = [title, price, today]\n",
    "\n",
    "    with open('AmazonWebScraperDataset.csv', 'a+', newline='', encoding='UTF8') as f:\n",
    "        writer = csv.writer(f)\n",
    "        writer.writerow(data)\n",
    "    \n",
    "    if(price=='NA'):\n",
    "        print(\"no se obtuvo precio\")\n",
    "    elif(price<30):\n",
    "        send_mail()\n",
    " \n"
   ]
  },
  {
   "cell_type": "code",
   "execution_count": null,
   "id": "c72f2c4e",
   "metadata": {},
   "outputs": [],
   "source": [
    "# Runs check_price after a set time and inputs data into your CSV\n",
    "\n",
    "while(True):\n",
    "    check_price()\n",
    "    time.sleep(50)"
   ]
  },
  {
   "cell_type": "code",
   "execution_count": null,
   "id": "00af7126",
   "metadata": {},
   "outputs": [],
   "source": [
    "import pandas as pd\n",
    "\n",
    "df = pd.read_csv(r'AmazonWebScraperDataset.csv')\n",
    "\n",
    "print(df)"
   ]
  },
  {
   "cell_type": "code",
   "execution_count": 215,
   "id": "d14fce5f",
   "metadata": {},
   "outputs": [],
   "source": [
    "# If uou want to try sending yourself an email (just for fun) when a price hits below a certain level you can try it\n",
    "# out with this script\n",
    "\n",
    "def send_mail():\n",
    "        # If uou want to try sending yourself an email (just for fun) when a price hits below a certain level you can try it\n",
    "    # out with this script\n",
    "\n",
    "  \n",
    "\n",
    "    # Configurar los detalles del correo electrónico\n",
    "    remitente = 'cancellarapaula@gmail.com'\n",
    "    destinatario = 'cancellarapaula@gmail.com'\n",
    "    asunto = 'Tu remera bajó de precio!'\n",
    "    mensaje = 'Ya podes comprar tu remera, bajó de precio'\n",
    "\n",
    "    # Crear el objeto MIMEText con el contenido del mensaje\n",
    "    msg = MIMEText(mensaje)\n",
    "\n",
    "    # Configurar el encabezado del correo electrónico\n",
    "    msg['From'] = remitente\n",
    "    msg['To'] = destinatario\n",
    "    msg['Subject'] = asunto\n",
    "\n",
    "    # Conectar al servidor de Gmail y enviar el correo electrónico\n",
    "    try:\n",
    "        server = smtplib.SMTP('smtp.gmail.com', 587)\n",
    "        server.starttls()\n",
    "        server.login(remitente, 'xokaqlzwehoykxdk')  # Reemplaza 'tu_contraseña' con tu contraseña real\n",
    "        server.send_message(msg)\n",
    "        server.quit()\n",
    "        print('Correo electrónico enviado correctamente')\n",
    "    except Exception as e:\n",
    "        print('Error al enviar el correo electrónico:', str(e))\n",
    "     \n"
   ]
  },
  {
   "cell_type": "code",
   "execution_count": 188,
   "id": "d218ef17",
   "metadata": {},
   "outputs": [
    {
     "name": "stdout",
     "output_type": "stream",
     "text": [
      "Correo electrónico enviado correctamente\n"
     ]
    }
   ],
   "source": [
    "send_mail()"
   ]
  },
  {
   "cell_type": "code",
   "execution_count": null,
   "id": "cc50025c",
   "metadata": {},
   "outputs": [],
   "source": []
  }
 ],
 "metadata": {
  "kernelspec": {
   "display_name": "Python 3 (ipykernel)",
   "language": "python",
   "name": "python3"
  },
  "language_info": {
   "codemirror_mode": {
    "name": "ipython",
    "version": 3
   },
   "file_extension": ".py",
   "mimetype": "text/x-python",
   "name": "python",
   "nbconvert_exporter": "python",
   "pygments_lexer": "ipython3",
   "version": "3.10.9"
  }
 },
 "nbformat": 4,
 "nbformat_minor": 5
}
